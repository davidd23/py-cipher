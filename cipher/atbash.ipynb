{
 "cells": [
  {
   "cell_type": "markdown",
   "metadata": {},
   "source": [
    "<h1>Atbash Cipher</h1> <br>\n",
    "The Atbash Cipher is a monoalphabetic substitution cipher where the alphabet is reversed by ordinance. <br>\n",
    "Indexed $A=0,B=1,C=2,...,Z=25$"
   ]
  },
  {
   "cell_type": "markdown",
   "metadata": {},
   "source": [
    "<center><h4>Encryption:</h4></center> <br>\n",
    "<center><h2>$E(x)=25-x$</h2></center> <br>\n",
    "<center><h4>Decryption:</h4></center> <br>\n",
    "<center><h2>$D(x)=25-x$</h2></center> <br>"
   ]
  },
  {
   "cell_type": "code",
   "execution_count": 11,
   "metadata": {},
   "outputs": [
    {
     "name": "stdout",
     "output_type": "stream",
     "text": [
      "Please enter a plaintext letter: b\n",
      "Encrypted text: y\n"
     ]
    }
   ],
   "source": [
    "def encrypt(x):\n",
    "    result = \"\"\n",
    "    \n",
    "    for i in range(len(x)):\n",
    "        char = x[i]\n",
    "        \n",
    "        if char.isupper():\n",
    "            result += chr(25 - (ord(char) - 65) + 65)\n",
    "        else:\n",
    "            result += chr(25 - (ord(char) - 97) + 97)\n",
    "    \n",
    "    return result\n",
    "\n",
    "ptxt = input(\"Please enter a plaintext letter: \")\n",
    "etxt = encrypt(ptxt)\n",
    "print('Encrypted text:', etxt)"
   ]
  }
 ],
 "metadata": {
  "kernelspec": {
   "display_name": "Python 3",
   "language": "python",
   "name": "python3"
  },
  "language_info": {
   "codemirror_mode": {
    "name": "ipython",
    "version": 3
   },
   "file_extension": ".py",
   "mimetype": "text/x-python",
   "name": "python",
   "nbconvert_exporter": "python",
   "pygments_lexer": "ipython3",
   "version": "3.7.4"
  }
 },
 "nbformat": 4,
 "nbformat_minor": 2
}
