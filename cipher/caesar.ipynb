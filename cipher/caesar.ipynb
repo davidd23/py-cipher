{
 "cells": [
  {
   "cell_type": "markdown",
   "metadata": {},
   "source": [
    "<h1> Caesar Cipher </h1><br>\n",
    "The Caesar Cipher is a substituion cipher where text is replaced by letters of some constant shift across the alphabet. <br>\n",
    "Indexed, $A=0, B=1, C=2,...,Z=25$"
   ]
  },
  {
   "cell_type": "markdown",
   "metadata": {},
   "source": [
    "<h4><center>Encryption of shift n:</center></h4> \n",
    "<h3><center>$E_{n}(x)=(x+n)\\pmod{26}$</center></h3> <br>\n",
    "<h4><center>Decryption of shift n:</center></h4>\n",
    "<h3><center>$D_{n}(x)=(x-n)\\pmod{26}$</center></h3>"
   ]
  },
  {
   "cell_type": "code",
   "execution_count": 9,
   "metadata": {},
   "outputs": [
    {
     "name": "stdout",
     "output_type": "stream",
     "text": [
      "Please enter a letter: A\n",
      "Please enter a shift: 3\n",
      "Encrypted text: D\n"
     ]
    }
   ],
   "source": [
    "# def decrypt(etext, shift):\n",
    "#     result = \"\"\n",
    "    \n",
    "#     for i in range(len(etext)):\n",
    "#         char = etext[i]\n",
    "#         if char.isupper():\n",
    "#             result += chr((ord(char) - \n",
    "#         else:\n",
    "#             result += chr((ord(char) - shift + 97) %26 - 97)\n",
    "    \n",
    "#     return result\n",
    "\n",
    "# char = input('Type a capital letter: ')\n",
    "# s = input('Type a shift: ')\n",
    "# s = int(s)\n",
    "# result = chr((ord(char) + s) % 26 + 65)\n",
    "# print(result)\n",
    "# print(ord('A'))\n",
    "\n",
    "# print(chr(ord('A')+1))\n",
    "\n",
    "# def encrypt(ptext, shift):\n",
    "#     result = \"\"\n",
    "    \n",
    "#     for i in range(len(ptext)):\n",
    "#         char = ptext[i]\n",
    "#         if char.isupper():\n",
    "#             result += chr((ord(char) + shift - 65) % 26 + 65)\n",
    "#         else:\n",
    "#             result += chr((ord(char) + shift - 97) % 26 + 97)\n",
    "    \n",
    "#     return result\n",
    "\n",
    "def encrypt(ptext, shift):\n",
    "    result = \"\"\n",
    "    \n",
    "    for i in range(len(ptext)):\n",
    "        char = ptext[i]\n",
    "        if char.isupper():\n",
    "            result += chr((ord(char) + (shift % 26)))\n",
    "        if char.islower():\n",
    "            result += chr((ord(char) - (shift % 26)))\n",
    "    \n",
    "    return result\n",
    "\n",
    "\n",
    "\n",
    "\n",
    "ptxt = input(\"Please enter a letter: \")\n",
    "n = input(\"Please enter a shift: \")\n",
    "n = int(n)\n",
    "etxt = encrypt(ptxt,n)\n",
    "\n",
    "print('Encrypted text:', etxt)\n",
    "\n",
    "\n",
    "\n"
   ]
  },
  {
   "cell_type": "code",
   "execution_count": null,
   "metadata": {},
   "outputs": [],
   "source": []
  },
  {
   "cell_type": "code",
   "execution_count": null,
   "metadata": {},
   "outputs": [],
   "source": []
  }
 ],
 "metadata": {
  "kernelspec": {
   "display_name": "Python 3",
   "language": "python",
   "name": "python3"
  },
  "language_info": {
   "codemirror_mode": {
    "name": "ipython",
    "version": 3
   },
   "file_extension": ".py",
   "mimetype": "text/x-python",
   "name": "python",
   "nbconvert_exporter": "python",
   "pygments_lexer": "ipython3",
   "version": "3.7.4"
  }
 },
 "nbformat": 4,
 "nbformat_minor": 4
}
